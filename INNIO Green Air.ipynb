{
 "cells": [
  {
   "cell_type": "code",
   "execution_count": 1,
   "metadata": {
    "scrolled": false
   },
   "outputs": [
    {
     "name": "stdout",
     "output_type": "stream",
     "text": [
      "Collecting numpy==1.20.3\n",
      "  Using cached numpy-1.20.3-cp38-cp38-macosx_10_9_x86_64.whl (16.0 MB)\n",
      "Installing collected packages: numpy\n",
      "  Attempting uninstall: numpy\n",
      "    Found existing installation: numpy 1.24.4\n",
      "    Uninstalling numpy-1.24.4:\n",
      "      Successfully uninstalled numpy-1.24.4\n",
      "\u001b[31mERROR: After October 2020 you may experience errors when installing or updating packages. This is because pip will change the way that it resolves dependency conflicts.\n",
      "\n",
      "We recommend you use --use-feature=2020-resolver to test your packages with the new resolver before it becomes the default.\n",
      "\n",
      "tensorflow 2.5.0 requires numpy~=1.19.2, but you'll have numpy 1.20.3 which is incompatible.\n",
      "tensorflow 2.5.0 requires typing-extensions~=3.7.4, but you'll have typing-extensions 4.10.0 which is incompatible.\u001b[0m\n",
      "Successfully installed numpy-1.20.3\n"
     ]
    }
   ],
   "source": [
    "!pip install numpy==1.20.3"
   ]
  },
  {
   "cell_type": "code",
   "execution_count": 2,
   "metadata": {},
   "outputs": [
    {
     "name": "stdout",
     "output_type": "stream",
     "text": [
      "Collecting numpy\n",
      "  Using cached numpy-1.24.4-cp38-cp38-macosx_10_9_x86_64.whl (19.8 MB)\n",
      "Requirement already up-to-date: seaborn in ./opt/anaconda3/lib/python3.8/site-packages (0.13.2)\n",
      "Requirement already satisfied, skipping upgrade: matplotlib!=3.6.1,>=3.4 in ./opt/anaconda3/lib/python3.8/site-packages (from seaborn) (3.7.5)\n",
      "Requirement already satisfied, skipping upgrade: pandas>=1.2 in ./opt/anaconda3/lib/python3.8/site-packages (from seaborn) (2.0.3)\n",
      "Requirement already satisfied, skipping upgrade: kiwisolver>=1.0.1 in ./opt/anaconda3/lib/python3.8/site-packages (from matplotlib!=3.6.1,>=3.4->seaborn) (1.3.0)\n",
      "Requirement already satisfied, skipping upgrade: packaging>=20.0 in ./opt/anaconda3/lib/python3.8/site-packages (from matplotlib!=3.6.1,>=3.4->seaborn) (20.4)\n",
      "Requirement already satisfied, skipping upgrade: pillow>=6.2.0 in ./opt/anaconda3/lib/python3.8/site-packages (from matplotlib!=3.6.1,>=3.4->seaborn) (8.0.1)\n",
      "Requirement already satisfied, skipping upgrade: python-dateutil>=2.7 in ./opt/anaconda3/lib/python3.8/site-packages (from matplotlib!=3.6.1,>=3.4->seaborn) (2.9.0.post0)\n",
      "Requirement already satisfied, skipping upgrade: importlib-resources>=3.2.0; python_version < \"3.10\" in ./opt/anaconda3/lib/python3.8/site-packages (from matplotlib!=3.6.1,>=3.4->seaborn) (6.4.0)\n",
      "Requirement already satisfied, skipping upgrade: pyparsing>=2.3.1 in ./opt/anaconda3/lib/python3.8/site-packages (from matplotlib!=3.6.1,>=3.4->seaborn) (2.4.7)\n",
      "Requirement already satisfied, skipping upgrade: fonttools>=4.22.0 in ./opt/anaconda3/lib/python3.8/site-packages (from matplotlib!=3.6.1,>=3.4->seaborn) (4.51.0)\n",
      "Requirement already satisfied, skipping upgrade: cycler>=0.10 in ./opt/anaconda3/lib/python3.8/site-packages (from matplotlib!=3.6.1,>=3.4->seaborn) (0.10.0)\n",
      "Requirement already satisfied, skipping upgrade: contourpy>=1.0.1 in ./opt/anaconda3/lib/python3.8/site-packages (from matplotlib!=3.6.1,>=3.4->seaborn) (1.1.1)\n",
      "Requirement already satisfied, skipping upgrade: pytz>=2020.1 in ./opt/anaconda3/lib/python3.8/site-packages (from pandas>=1.2->seaborn) (2020.1)\n",
      "Requirement already satisfied, skipping upgrade: tzdata>=2022.1 in ./opt/anaconda3/lib/python3.8/site-packages (from pandas>=1.2->seaborn) (2024.1)\n",
      "Requirement already satisfied, skipping upgrade: six in ./opt/anaconda3/lib/python3.8/site-packages (from packaging>=20.0->matplotlib!=3.6.1,>=3.4->seaborn) (1.15.0)\n",
      "Requirement already satisfied, skipping upgrade: zipp>=3.1.0; python_version < \"3.10\" in ./opt/anaconda3/lib/python3.8/site-packages (from importlib-resources>=3.2.0; python_version < \"3.10\"->matplotlib!=3.6.1,>=3.4->seaborn) (3.4.0)\n",
      "Installing collected packages: numpy\n",
      "  Attempting uninstall: numpy\n",
      "    Found existing installation: numpy 1.20.3\n",
      "    Uninstalling numpy-1.20.3:\n",
      "      Successfully uninstalled numpy-1.20.3\n",
      "\u001b[31mERROR: After October 2020 you may experience errors when installing or updating packages. This is because pip will change the way that it resolves dependency conflicts.\n",
      "\n",
      "We recommend you use --use-feature=2020-resolver to test your packages with the new resolver before it becomes the default.\n",
      "\n",
      "tensorflow 2.5.0 requires numpy~=1.19.2, but you'll have numpy 1.24.4 which is incompatible.\n",
      "tensorflow 2.5.0 requires typing-extensions~=3.7.4, but you'll have typing-extensions 4.10.0 which is incompatible.\u001b[0m\n",
      "Successfully installed numpy-1.24.4\n"
     ]
    }
   ],
   "source": [
    "!pip install --upgrade numpy seaborn"
   ]
  },
  {
   "cell_type": "code",
   "execution_count": 3,
   "metadata": {},
   "outputs": [
    {
     "name": "stdout",
     "output_type": "stream",
     "text": [
      "Requirement already up-to-date: openpyxl in ./opt/anaconda3/lib/python3.8/site-packages (3.1.2)\r\n",
      "Requirement already satisfied, skipping upgrade: et-xmlfile in ./opt/anaconda3/lib/python3.8/site-packages (from openpyxl) (1.0.1)\r\n"
     ]
    }
   ],
   "source": [
    "!pip install --upgrade openpyxl"
   ]
  },
  {
   "cell_type": "code",
   "execution_count": 4,
   "metadata": {},
   "outputs": [
    {
     "name": "stderr",
     "output_type": "stream",
     "text": [
      "/Users/berndkaufmann/opt/anaconda3/lib/python3.8/site-packages/pandas/core/computation/expressions.py:20: UserWarning: Pandas requires version '2.7.3' or newer of 'numexpr' (version '2.7.1' currently installed).\n",
      "  from pandas.core.computation.check import NUMEXPR_INSTALLED\n"
     ]
    }
   ],
   "source": [
    "import numpy as np\n",
    "import seaborn as sns\n",
    "import matplotlib.pyplot as plt"
   ]
  },
  {
   "cell_type": "code",
   "execution_count": 5,
   "metadata": {},
   "outputs": [
    {
     "name": "stdout",
     "output_type": "stream",
     "text": [
      "Requirement already up-to-date: numpy in ./opt/anaconda3/lib/python3.8/site-packages (1.24.4)\n",
      "Requirement already up-to-date: pandas in ./opt/anaconda3/lib/python3.8/site-packages (2.0.3)\n",
      "Requirement already satisfied, skipping upgrade: pytz>=2020.1 in ./opt/anaconda3/lib/python3.8/site-packages (from pandas) (2020.1)\n",
      "Requirement already satisfied, skipping upgrade: python-dateutil>=2.8.2 in ./opt/anaconda3/lib/python3.8/site-packages (from pandas) (2.9.0.post0)\n",
      "Requirement already satisfied, skipping upgrade: tzdata>=2022.1 in ./opt/anaconda3/lib/python3.8/site-packages (from pandas) (2024.1)\n",
      "Requirement already satisfied, skipping upgrade: six>=1.5 in ./opt/anaconda3/lib/python3.8/site-packages (from python-dateutil>=2.8.2->pandas) (1.15.0)\n"
     ]
    }
   ],
   "source": [
    "import pandas as pd\n",
    "!pip install --upgrade numpy pandas"
   ]
  },
  {
   "cell_type": "code",
   "execution_count": 6,
   "metadata": {},
   "outputs": [
    {
     "name": "stdout",
     "output_type": "stream",
     "text": [
      "3.1.2\n"
     ]
    }
   ],
   "source": [
    "import openpyxl\n",
    "print(openpyxl.__version__)"
   ]
  },
  {
   "cell_type": "code",
   "execution_count": 7,
   "metadata": {},
   "outputs": [],
   "source": [
    "# Replace 'file_path.xlsx' with the path to your Excel file\n",
    "df = pd.read_excel('/Users/berndkaufmann/INNIO/2022_Data Set Case Green Air.xlsx')"
   ]
  },
  {
   "cell_type": "code",
   "execution_count": 8,
   "metadata": {},
   "outputs": [
    {
     "name": "stdout",
     "output_type": "stream",
     "text": [
      "['2022_Data Set Case Green Air.xlsx']\n"
     ]
    }
   ],
   "source": [
    "import os\n",
    "print(os.listdir('/Users/berndkaufmann/INNIO'))  # Adjust if the path is different\n"
   ]
  },
  {
   "cell_type": "code",
   "execution_count": 9,
   "metadata": {},
   "outputs": [],
   "source": [
    "df = pd.read_excel('/Users/berndkaufmann/INNIO/2022_Data Set Case Green Air.xlsx')\n"
   ]
  },
  {
   "cell_type": "code",
   "execution_count": 10,
   "metadata": {},
   "outputs": [],
   "source": [
    "# Set some display options for better output readability\n",
    "pd.set_option('display.max_columns', None)\n",
    "pd.set_option('display.max_rows', 50)\n",
    "pd.set_option('display.float_format', '{:.2f}'.format)"
   ]
  },
  {
   "cell_type": "code",
   "execution_count": 11,
   "metadata": {},
   "outputs": [
    {
     "data": {
      "text/html": [
       "<div>\n",
       "<style scoped>\n",
       "    .dataframe tbody tr th:only-of-type {\n",
       "        vertical-align: middle;\n",
       "    }\n",
       "\n",
       "    .dataframe tbody tr th {\n",
       "        vertical-align: top;\n",
       "    }\n",
       "\n",
       "    .dataframe thead th {\n",
       "        text-align: right;\n",
       "    }\n",
       "</style>\n",
       "<table border=\"1\" class=\"dataframe\">\n",
       "  <thead>\n",
       "    <tr style=\"text-align: right;\">\n",
       "      <th></th>\n",
       "      <th>CaseID</th>\n",
       "      <th>PR_Number</th>\n",
       "      <th>PO_Number</th>\n",
       "      <th>Create PR</th>\n",
       "      <th>Authorize PR</th>\n",
       "      <th>Reject PR</th>\n",
       "      <th>Create Purchase Order</th>\n",
       "      <th>Auth Send PO</th>\n",
       "      <th>Reject PO</th>\n",
       "      <th>Receive Goods</th>\n",
       "      <th>Actor_Create PR</th>\n",
       "      <th>Actor_Authorize PR</th>\n",
       "      <th>Actor_Reject PR</th>\n",
       "      <th>Actor_Create Purchase Order</th>\n",
       "      <th>Actor_Auth Send PO</th>\n",
       "      <th>Actor_Reject PO</th>\n",
       "      <th>Actor_Receive Goods</th>\n",
       "      <th>Supplier Name</th>\n",
       "      <th>Material Group</th>\n",
       "      <th>Purchase Value (eur)</th>\n",
       "    </tr>\n",
       "  </thead>\n",
       "  <tbody>\n",
       "    <tr>\n",
       "      <th>0</th>\n",
       "      <td>1001</td>\n",
       "      <td>30100052.00</td>\n",
       "      <td>40300106.00</td>\n",
       "      <td>2020-10-01 08:26:00</td>\n",
       "      <td>2020-10-03 18:33:00</td>\n",
       "      <td>NaT</td>\n",
       "      <td>2020-10-04 11:04:00</td>\n",
       "      <td>2020-10-04 16:39:00</td>\n",
       "      <td>NaT</td>\n",
       "      <td>2020-10-27 15:24:00</td>\n",
       "      <td>ThijsvdB</td>\n",
       "      <td>Eduard</td>\n",
       "      <td>NaN</td>\n",
       "      <td>JokeF</td>\n",
       "      <td>RobvdL</td>\n",
       "      <td>NaN</td>\n",
       "      <td>SonjaL</td>\n",
       "      <td>Condax</td>\n",
       "      <td>Hydraulic</td>\n",
       "      <td>1353.67</td>\n",
       "    </tr>\n",
       "    <tr>\n",
       "      <th>1</th>\n",
       "      <td>1002</td>\n",
       "      <td>30100079.00</td>\n",
       "      <td>40300108.00</td>\n",
       "      <td>2020-10-01 07:19:00</td>\n",
       "      <td>2020-10-02 19:32:00</td>\n",
       "      <td>NaT</td>\n",
       "      <td>2020-10-04 14:29:00</td>\n",
       "      <td>2020-10-06 10:40:00</td>\n",
       "      <td>NaT</td>\n",
       "      <td>2020-10-11 16:01:00</td>\n",
       "      <td>ArieV</td>\n",
       "      <td>JohnK</td>\n",
       "      <td>NaN</td>\n",
       "      <td>MauricedB</td>\n",
       "      <td>EdjeK</td>\n",
       "      <td>NaN</td>\n",
       "      <td>PeterL</td>\n",
       "      <td>Lexiqvolax</td>\n",
       "      <td>Electric</td>\n",
       "      <td>1532.59</td>\n",
       "    </tr>\n",
       "    <tr>\n",
       "      <th>2</th>\n",
       "      <td>1003</td>\n",
       "      <td>30100101.00</td>\n",
       "      <td>40300109.00</td>\n",
       "      <td>2020-10-01 07:36:00</td>\n",
       "      <td>2020-10-03 22:57:00</td>\n",
       "      <td>NaT</td>\n",
       "      <td>2020-10-04 11:45:00</td>\n",
       "      <td>2020-10-09 11:42:00</td>\n",
       "      <td>NaT</td>\n",
       "      <td>2020-10-23 11:42:00</td>\n",
       "      <td>TonyB</td>\n",
       "      <td>JohnK</td>\n",
       "      <td>NaN</td>\n",
       "      <td>MauricedB</td>\n",
       "      <td>FritsS</td>\n",
       "      <td>NaN</td>\n",
       "      <td>OlafO</td>\n",
       "      <td>Golddex</td>\n",
       "      <td>Hydraulic</td>\n",
       "      <td>8746.77</td>\n",
       "    </tr>\n",
       "    <tr>\n",
       "      <th>3</th>\n",
       "      <td>1004</td>\n",
       "      <td>30100050.00</td>\n",
       "      <td>40300111.00</td>\n",
       "      <td>2020-10-01 12:53:00</td>\n",
       "      <td>2020-10-02 10:36:00</td>\n",
       "      <td>NaT</td>\n",
       "      <td>2020-10-05 08:45:00</td>\n",
       "      <td>2020-10-11 11:36:00</td>\n",
       "      <td>NaT</td>\n",
       "      <td>2020-10-21 11:36:00</td>\n",
       "      <td>TonyB</td>\n",
       "      <td>JohnK</td>\n",
       "      <td>NaN</td>\n",
       "      <td>MauricedB</td>\n",
       "      <td>FritsS</td>\n",
       "      <td>NaN</td>\n",
       "      <td>PeterL</td>\n",
       "      <td>Openlane</td>\n",
       "      <td>Electric</td>\n",
       "      <td>749.00</td>\n",
       "    </tr>\n",
       "    <tr>\n",
       "      <th>4</th>\n",
       "      <td>1005</td>\n",
       "      <td>30100057.00</td>\n",
       "      <td>40300112.00</td>\n",
       "      <td>2020-10-01 15:51:00</td>\n",
       "      <td>2020-10-05 19:34:00</td>\n",
       "      <td>NaT</td>\n",
       "      <td>2020-10-05 23:28:00</td>\n",
       "      <td>2020-10-11 08:35:00</td>\n",
       "      <td>NaT</td>\n",
       "      <td>2020-10-15 09:55:00</td>\n",
       "      <td>ThijsvdB</td>\n",
       "      <td>JohnK</td>\n",
       "      <td>NaN</td>\n",
       "      <td>JokeF</td>\n",
       "      <td>FritsS</td>\n",
       "      <td>NaN</td>\n",
       "      <td>OlafO</td>\n",
       "      <td>year-job</td>\n",
       "      <td>Tools</td>\n",
       "      <td>429.08</td>\n",
       "    </tr>\n",
       "  </tbody>\n",
       "</table>\n",
       "</div>"
      ],
      "text/plain": [
       "   CaseID   PR_Number   PO_Number           Create PR        Authorize PR  \\\n",
       "0    1001 30100052.00 40300106.00 2020-10-01 08:26:00 2020-10-03 18:33:00   \n",
       "1    1002 30100079.00 40300108.00 2020-10-01 07:19:00 2020-10-02 19:32:00   \n",
       "2    1003 30100101.00 40300109.00 2020-10-01 07:36:00 2020-10-03 22:57:00   \n",
       "3    1004 30100050.00 40300111.00 2020-10-01 12:53:00 2020-10-02 10:36:00   \n",
       "4    1005 30100057.00 40300112.00 2020-10-01 15:51:00 2020-10-05 19:34:00   \n",
       "\n",
       "  Reject PR Create Purchase Order        Auth Send PO Reject PO  \\\n",
       "0       NaT   2020-10-04 11:04:00 2020-10-04 16:39:00       NaT   \n",
       "1       NaT   2020-10-04 14:29:00 2020-10-06 10:40:00       NaT   \n",
       "2       NaT   2020-10-04 11:45:00 2020-10-09 11:42:00       NaT   \n",
       "3       NaT   2020-10-05 08:45:00 2020-10-11 11:36:00       NaT   \n",
       "4       NaT   2020-10-05 23:28:00 2020-10-11 08:35:00       NaT   \n",
       "\n",
       "        Receive Goods Actor_Create PR Actor_Authorize PR Actor_Reject PR  \\\n",
       "0 2020-10-27 15:24:00        ThijsvdB             Eduard             NaN   \n",
       "1 2020-10-11 16:01:00           ArieV              JohnK             NaN   \n",
       "2 2020-10-23 11:42:00           TonyB              JohnK             NaN   \n",
       "3 2020-10-21 11:36:00           TonyB              JohnK             NaN   \n",
       "4 2020-10-15 09:55:00        ThijsvdB              JohnK             NaN   \n",
       "\n",
       "  Actor_Create Purchase Order Actor_Auth Send PO Actor_Reject PO  \\\n",
       "0                       JokeF             RobvdL             NaN   \n",
       "1                   MauricedB              EdjeK             NaN   \n",
       "2                   MauricedB             FritsS             NaN   \n",
       "3                   MauricedB             FritsS             NaN   \n",
       "4                       JokeF             FritsS             NaN   \n",
       "\n",
       "  Actor_Receive Goods Supplier Name Material Group  Purchase Value (eur)  \n",
       "0              SonjaL        Condax      Hydraulic               1353.67  \n",
       "1              PeterL    Lexiqvolax       Electric               1532.59  \n",
       "2               OlafO       Golddex      Hydraulic               8746.77  \n",
       "3              PeterL      Openlane       Electric                749.00  \n",
       "4               OlafO      year-job          Tools                429.08  "
      ]
     },
     "execution_count": 11,
     "metadata": {},
     "output_type": "execute_result"
    }
   ],
   "source": [
    "# Display the first few rows of the dataframe\n",
    "df.head()"
   ]
  },
  {
   "cell_type": "code",
   "execution_count": 12,
   "metadata": {},
   "outputs": [
    {
     "name": "stdout",
     "output_type": "stream",
     "text": [
      "Index(['CaseID', 'PR_Number', 'PO_Number', 'Create PR', 'Authorize PR',\n",
      "       'Reject PR', 'Create Purchase Order', 'Auth Send PO', 'Reject PO',\n",
      "       'Receive Goods', 'Actor_Create PR', 'Actor_Authorize PR',\n",
      "       'Actor_Reject PR', 'Actor_Create Purchase Order', 'Actor_Auth Send PO',\n",
      "       'Actor_Reject PO', 'Actor_Receive Goods', 'Supplier Name',\n",
      "       'Material Group', 'Purchase Value (eur)'],\n",
      "      dtype='object')\n"
     ]
    }
   ],
   "source": [
    "# Print the column names\n",
    "print(df.columns)"
   ]
  },
  {
   "cell_type": "code",
   "execution_count": 13,
   "metadata": {},
   "outputs": [],
   "source": [
    "df['Create PR'] = pd.to_datetime(df['Create PR'])\n",
    "df['Authorize PR'] = pd.to_datetime(df['Authorize PR'])\n",
    "df['Reject PR'] = pd.to_datetime(df['Reject PR'])\n",
    "df['Create Purchase Order'] = pd.to_datetime(df['Create Purchase Order'])\n",
    "df['Auth Send PO'] = pd.to_datetime(df['Auth Send PO'])\n",
    "df['Reject PO'] = pd.to_datetime(df['Reject PO'])\n",
    "df['Receive Goods'] = pd.to_datetime(df['Receive Goods'])\n"
   ]
  },
  {
   "cell_type": "code",
   "execution_count": 14,
   "metadata": {},
   "outputs": [],
   "source": [
    "# Sort data by case ID and timestamp (if necessary)\n",
    "df = df.sort_values(by=['CaseID'])"
   ]
  },
  {
   "cell_type": "code",
   "execution_count": 15,
   "metadata": {},
   "outputs": [
    {
     "name": "stdout",
     "output_type": "stream",
     "text": [
      "<class 'pandas.core.frame.DataFrame'>\n",
      "RangeIndex: 438 entries, 0 to 437\n",
      "Data columns (total 20 columns):\n",
      " #   Column                       Non-Null Count  Dtype         \n",
      "---  ------                       --------------  -----         \n",
      " 0   CaseID                       438 non-null    int64         \n",
      " 1   PR_Number                    375 non-null    float64       \n",
      " 2   PO_Number                    427 non-null    float64       \n",
      " 3   Create PR                    375 non-null    datetime64[ns]\n",
      " 4   Authorize PR                 370 non-null    datetime64[ns]\n",
      " 5   Reject PR                    5 non-null      datetime64[ns]\n",
      " 6   Create Purchase Order        427 non-null    datetime64[ns]\n",
      " 7   Auth Send PO                 400 non-null    datetime64[ns]\n",
      " 8   Reject PO                    24 non-null     datetime64[ns]\n",
      " 9   Receive Goods                406 non-null    datetime64[ns]\n",
      " 10  Actor_Create PR              375 non-null    object        \n",
      " 11  Actor_Authorize PR           370 non-null    object        \n",
      " 12  Actor_Reject PR              5 non-null      object        \n",
      " 13  Actor_Create Purchase Order  427 non-null    object        \n",
      " 14  Actor_Auth Send PO           400 non-null    object        \n",
      " 15  Actor_Reject PO              24 non-null     object        \n",
      " 16  Actor_Receive Goods          406 non-null    object        \n",
      " 17  Supplier Name                406 non-null    object        \n",
      " 18  Material Group               406 non-null    object        \n",
      " 19  Purchase Value (eur)         406 non-null    float64       \n",
      "dtypes: datetime64[ns](7), float64(3), int64(1), object(9)\n",
      "memory usage: 68.6+ KB\n"
     ]
    }
   ],
   "source": [
    "# Get the info about the dataset\n",
    "df.info()"
   ]
  },
  {
   "cell_type": "code",
   "execution_count": 16,
   "metadata": {},
   "outputs": [
    {
     "data": {
      "text/html": [
       "<div>\n",
       "<style scoped>\n",
       "    .dataframe tbody tr th:only-of-type {\n",
       "        vertical-align: middle;\n",
       "    }\n",
       "\n",
       "    .dataframe tbody tr th {\n",
       "        vertical-align: top;\n",
       "    }\n",
       "\n",
       "    .dataframe thead th {\n",
       "        text-align: right;\n",
       "    }\n",
       "</style>\n",
       "<table border=\"1\" class=\"dataframe\">\n",
       "  <thead>\n",
       "    <tr style=\"text-align: right;\">\n",
       "      <th></th>\n",
       "      <th>CaseID</th>\n",
       "      <th>PR_Number</th>\n",
       "      <th>PO_Number</th>\n",
       "      <th>Create PR</th>\n",
       "      <th>Authorize PR</th>\n",
       "      <th>Reject PR</th>\n",
       "      <th>Create Purchase Order</th>\n",
       "      <th>Auth Send PO</th>\n",
       "      <th>Reject PO</th>\n",
       "      <th>Receive Goods</th>\n",
       "      <th>Purchase Value (eur)</th>\n",
       "    </tr>\n",
       "  </thead>\n",
       "  <tbody>\n",
       "    <tr>\n",
       "      <th>count</th>\n",
       "      <td>438.00</td>\n",
       "      <td>375.00</td>\n",
       "      <td>427.00</td>\n",
       "      <td>375</td>\n",
       "      <td>370</td>\n",
       "      <td>5</td>\n",
       "      <td>427</td>\n",
       "      <td>400</td>\n",
       "      <td>24</td>\n",
       "      <td>406</td>\n",
       "      <td>406.00</td>\n",
       "    </tr>\n",
       "    <tr>\n",
       "      <th>mean</th>\n",
       "      <td>1219.50</td>\n",
       "      <td>30100262.34</td>\n",
       "      <td>40300318.38</td>\n",
       "      <td>2020-10-17 09:15:00.960000</td>\n",
       "      <td>2020-10-19 09:20:50.001729792</td>\n",
       "      <td>2020-10-23 14:24:00</td>\n",
       "      <td>2020-10-20 02:41:55.503512832</td>\n",
       "      <td>2020-10-25 03:06:08.916699904</td>\n",
       "      <td>2020-10-16 13:17:47.500000</td>\n",
       "      <td>2020-11-01 16:54:19.578620672</td>\n",
       "      <td>2027.60</td>\n",
       "    </tr>\n",
       "    <tr>\n",
       "      <th>min</th>\n",
       "      <td>1001.00</td>\n",
       "      <td>30100044.00</td>\n",
       "      <td>40300101.00</td>\n",
       "      <td>2020-10-01 07:02:00</td>\n",
       "      <td>2020-10-01 12:04:12</td>\n",
       "      <td>2020-10-03 20:16:00</td>\n",
       "      <td>2020-10-02 13:05:00</td>\n",
       "      <td>2020-10-04 16:39:00</td>\n",
       "      <td>2020-10-04 11:35:00</td>\n",
       "      <td>2020-10-08 16:49:00</td>\n",
       "      <td>8.64</td>\n",
       "    </tr>\n",
       "    <tr>\n",
       "      <th>25%</th>\n",
       "      <td>1110.25</td>\n",
       "      <td>30100154.50</td>\n",
       "      <td>40300210.50</td>\n",
       "      <td>2020-10-08 09:14:30</td>\n",
       "      <td>2020-10-09 21:03:30</td>\n",
       "      <td>2020-10-21 17:32:00</td>\n",
       "      <td>2020-10-11 09:02:30</td>\n",
       "      <td>2020-10-15 20:57:58.080000</td>\n",
       "      <td>2020-10-07 10:31:00</td>\n",
       "      <td>2020-10-22 14:38:06.840000</td>\n",
       "      <td>225.88</td>\n",
       "    </tr>\n",
       "    <tr>\n",
       "      <th>50%</th>\n",
       "      <td>1219.50</td>\n",
       "      <td>30100258.00</td>\n",
       "      <td>40300319.00</td>\n",
       "      <td>2020-10-20 11:37:00</td>\n",
       "      <td>2020-10-21 15:12:00</td>\n",
       "      <td>2020-10-30 15:56:00</td>\n",
       "      <td>2020-10-21 09:57:00</td>\n",
       "      <td>2020-10-26 23:45:14.640000</td>\n",
       "      <td>2020-10-15 01:15:30</td>\n",
       "      <td>2020-11-01 17:27:20.640000</td>\n",
       "      <td>583.44</td>\n",
       "    </tr>\n",
       "    <tr>\n",
       "      <th>75%</th>\n",
       "      <td>1328.75</td>\n",
       "      <td>30100376.50</td>\n",
       "      <td>40300426.50</td>\n",
       "      <td>2020-10-26 12:19:00</td>\n",
       "      <td>2020-10-28 10:33:30</td>\n",
       "      <td>2020-10-30 20:29:00</td>\n",
       "      <td>2020-10-29 10:52:00</td>\n",
       "      <td>2020-11-01 19:00:16.920000</td>\n",
       "      <td>2020-10-22 03:01:30</td>\n",
       "      <td>2020-11-10 14:05:08.040000</td>\n",
       "      <td>2202.24</td>\n",
       "    </tr>\n",
       "    <tr>\n",
       "      <th>max</th>\n",
       "      <td>1438.00</td>\n",
       "      <td>30100477.00</td>\n",
       "      <td>40300533.00</td>\n",
       "      <td>2020-10-29 15:40:00</td>\n",
       "      <td>2020-10-31 21:12:00</td>\n",
       "      <td>2020-10-30 21:47:00</td>\n",
       "      <td>2020-11-02 15:40:00</td>\n",
       "      <td>2020-11-25 23:47:13</td>\n",
       "      <td>2020-10-31 19:40:00</td>\n",
       "      <td>2020-11-29 22:11:32</td>\n",
       "      <td>10611.99</td>\n",
       "    </tr>\n",
       "    <tr>\n",
       "      <th>std</th>\n",
       "      <td>126.58</td>\n",
       "      <td>126.64</td>\n",
       "      <td>125.22</td>\n",
       "      <td>NaN</td>\n",
       "      <td>NaN</td>\n",
       "      <td>NaN</td>\n",
       "      <td>NaN</td>\n",
       "      <td>NaN</td>\n",
       "      <td>NaN</td>\n",
       "      <td>NaN</td>\n",
       "      <td>2898.09</td>\n",
       "    </tr>\n",
       "  </tbody>\n",
       "</table>\n",
       "</div>"
      ],
      "text/plain": [
       "       CaseID   PR_Number   PO_Number                   Create PR  \\\n",
       "count  438.00      375.00      427.00                         375   \n",
       "mean  1219.50 30100262.34 40300318.38  2020-10-17 09:15:00.960000   \n",
       "min   1001.00 30100044.00 40300101.00         2020-10-01 07:02:00   \n",
       "25%   1110.25 30100154.50 40300210.50         2020-10-08 09:14:30   \n",
       "50%   1219.50 30100258.00 40300319.00         2020-10-20 11:37:00   \n",
       "75%   1328.75 30100376.50 40300426.50         2020-10-26 12:19:00   \n",
       "max   1438.00 30100477.00 40300533.00         2020-10-29 15:40:00   \n",
       "std    126.58      126.64      125.22                         NaN   \n",
       "\n",
       "                        Authorize PR            Reject PR  \\\n",
       "count                            370                    5   \n",
       "mean   2020-10-19 09:20:50.001729792  2020-10-23 14:24:00   \n",
       "min              2020-10-01 12:04:12  2020-10-03 20:16:00   \n",
       "25%              2020-10-09 21:03:30  2020-10-21 17:32:00   \n",
       "50%              2020-10-21 15:12:00  2020-10-30 15:56:00   \n",
       "75%              2020-10-28 10:33:30  2020-10-30 20:29:00   \n",
       "max              2020-10-31 21:12:00  2020-10-30 21:47:00   \n",
       "std                              NaN                  NaN   \n",
       "\n",
       "               Create Purchase Order                   Auth Send PO  \\\n",
       "count                            427                            400   \n",
       "mean   2020-10-20 02:41:55.503512832  2020-10-25 03:06:08.916699904   \n",
       "min              2020-10-02 13:05:00            2020-10-04 16:39:00   \n",
       "25%              2020-10-11 09:02:30     2020-10-15 20:57:58.080000   \n",
       "50%              2020-10-21 09:57:00     2020-10-26 23:45:14.640000   \n",
       "75%              2020-10-29 10:52:00     2020-11-01 19:00:16.920000   \n",
       "max              2020-11-02 15:40:00            2020-11-25 23:47:13   \n",
       "std                              NaN                            NaN   \n",
       "\n",
       "                        Reject PO                  Receive Goods  \\\n",
       "count                          24                            406   \n",
       "mean   2020-10-16 13:17:47.500000  2020-11-01 16:54:19.578620672   \n",
       "min           2020-10-04 11:35:00            2020-10-08 16:49:00   \n",
       "25%           2020-10-07 10:31:00     2020-10-22 14:38:06.840000   \n",
       "50%           2020-10-15 01:15:30     2020-11-01 17:27:20.640000   \n",
       "75%           2020-10-22 03:01:30     2020-11-10 14:05:08.040000   \n",
       "max           2020-10-31 19:40:00            2020-11-29 22:11:32   \n",
       "std                           NaN                            NaN   \n",
       "\n",
       "       Purchase Value (eur)  \n",
       "count                406.00  \n",
       "mean                2027.60  \n",
       "min                    8.64  \n",
       "25%                  225.88  \n",
       "50%                  583.44  \n",
       "75%                 2202.24  \n",
       "max                10611.99  \n",
       "std                 2898.09  "
      ]
     },
     "execution_count": 16,
     "metadata": {},
     "output_type": "execute_result"
    }
   ],
   "source": [
    "# Generate summary statistics\n",
    "df.describe()\n"
   ]
  },
  {
   "cell_type": "code",
   "execution_count": 17,
   "metadata": {},
   "outputs": [
    {
     "data": {
      "text/plain": [
       "CaseID                           0\n",
       "PR_Number                       63\n",
       "PO_Number                       11\n",
       "Create PR                       63\n",
       "Authorize PR                    68\n",
       "Reject PR                      433\n",
       "Create Purchase Order           11\n",
       "Auth Send PO                    38\n",
       "Reject PO                      414\n",
       "Receive Goods                   32\n",
       "Actor_Create PR                 63\n",
       "Actor_Authorize PR              68\n",
       "Actor_Reject PR                433\n",
       "Actor_Create Purchase Order     11\n",
       "Actor_Auth Send PO              38\n",
       "Actor_Reject PO                414\n",
       "Actor_Receive Goods             32\n",
       "Supplier Name                   32\n",
       "Material Group                  32\n",
       "Purchase Value (eur)            32\n",
       "dtype: int64"
      ]
     },
     "execution_count": 17,
     "metadata": {},
     "output_type": "execute_result"
    }
   ],
   "source": [
    "# Check for missing values\n",
    "df.isnull().sum()\n"
   ]
  },
  {
   "cell_type": "code",
   "execution_count": 18,
   "metadata": {},
   "outputs": [
    {
     "data": {
      "text/plain": [
       "(CaseID                           0\n",
       " PR_Number                       63\n",
       " PO_Number                       11\n",
       " Create PR                       63\n",
       " Authorize PR                    68\n",
       " Reject PR                      433\n",
       " Create Purchase Order           11\n",
       " Auth Send PO                    38\n",
       " Reject PO                      414\n",
       " Receive Goods                   32\n",
       " Actor_Create PR                 63\n",
       " Actor_Authorize PR              68\n",
       " Actor_Reject PR                433\n",
       " Actor_Create Purchase Order     11\n",
       " Actor_Auth Send PO              38\n",
       " Actor_Reject PO                414\n",
       " Actor_Receive Goods             32\n",
       " Supplier Name                   32\n",
       " Material Group                  32\n",
       " Purchase Value (eur)            32\n",
       " dtype: int64,\n",
       "        CaseID   PR_Number   PO_Number  Purchase Value (eur)\n",
       " count  438.00      375.00      427.00                406.00\n",
       " mean  1219.50 30100262.34 40300318.38               2027.60\n",
       " std    126.58      126.64      125.22               2898.09\n",
       " min   1001.00 30100044.00 40300101.00                  8.64\n",
       " 25%   1110.25 30100154.50 40300210.50                225.88\n",
       " 50%   1219.50 30100258.00 40300319.00                583.44\n",
       " 75%   1328.75 30100376.50 40300426.50               2202.24\n",
       " max   1438.00 30100477.00 40300533.00              10611.99)"
      ]
     },
     "execution_count": 18,
     "metadata": {},
     "output_type": "execute_result"
    }
   ],
   "source": [
    "# Data Cleaning: Checking for missing values and handling them appropriately\n",
    "\n",
    "missing_data = df.isnull().sum()\n",
    "\n",
    "# Descriptive Statistics: Numerical summaries\n",
    "descriptive_stats = df.describe(include=[float, int])\n",
    "\n",
    "missing_data, descriptive_stats\n"
   ]
  },
  {
   "cell_type": "markdown",
   "metadata": {},
   "source": [
    "# Visualisation"
   ]
  },
  {
   "cell_type": "code",
   "execution_count": 19,
   "metadata": {},
   "outputs": [
    {
     "data": {
      "image/png": "[encoded data removed]",
      "text/plain": [
       "<Figure size 432x288 with 1 Axes>"
      ]
     },
     "metadata": {
      "needs_background": "light"
     },
     "output_type": "display_data"
    }
   ],
   "source": [
    "# Plot a histogram of the column Purchase Value\n",
    "df['Purchase Value (eur)'].hist(bins=30)\n",
    "plt.xlabel('Value')\n",
    "plt.ylabel('Frequency')\n",
    "plt.title('Histogram of Puchase Value')\n",
    "plt.show()\n"
   ]
  },
  {
   "cell_type": "code",
   "execution_count": 20,
   "metadata": {},
   "outputs": [
    {
     "data": {
      "image/png": "[encoded data removed]",
      "text/plain": [
       "<Figure size 432x288 with 1 Axes>"
      ]
     },
     "metadata": {
      "needs_background": "light"
     },
     "output_type": "display_data"
    }
   ],
   "source": [
    "# Box plot for a numerical column\n",
    "\n",
    "sns.boxplot(x=df['Purchase Value (eur)'])\n",
    "plt.title('Box Plot of Purchase Value')\n",
    "plt.show()"
   ]
  },
  {
   "cell_type": "code",
   "execution_count": 21,
   "metadata": {},
   "outputs": [
    {
     "data": {
      "image/png": "[encoded data removed]",
      "text/plain": [
       "<Figure size 180x180 with 2 Axes>"
      ]
     },
     "metadata": {
      "needs_background": "light"
     },
     "output_type": "display_data"
    }
   ],
   "source": [
    "# Pairplot for a subset of variables\n",
    "sns.pairplot(df[['Purchase Value (eur)', 'Create PR', 'Authorize PR', 'Reject PR']])\n",
    "plt.show()\n"
   ]
  },
  {
   "cell_type": "markdown",
   "metadata": {},
   "source": [
    "# Timeline Analysis\n",
    "\n",
    "Next, I'll analyze the timelines for the procurement process by calculating the duration between key steps such as:\n",
    "\n",
    "Duration from PR Creation to Authorization\n",
    "Duration from PR Authorization to PO Creation\n",
    "Duration from PO Creation to Goods Receipt"
   ]
  },
  {
   "cell_type": "code",
   "execution_count": 22,
   "metadata": {},
   "outputs": [
    {
     "data": {
      "image/png": "[encoded data removed]",
      "text/plain": [
       "<Figure size 1296x432 with 3 Axes>"
      ]
     },
     "metadata": {
      "needs_background": "light"
     },
     "output_type": "display_data"
    },
    {
     "data": {
      "text/html": [
       "<div>\n",
       "<style scoped>\n",
       "    .dataframe tbody tr th:only-of-type {\n",
       "        vertical-align: middle;\n",
       "    }\n",
       "\n",
       "    .dataframe tbody tr th {\n",
       "        vertical-align: top;\n",
       "    }\n",
       "\n",
       "    .dataframe thead th {\n",
       "        text-align: right;\n",
       "    }\n",
       "</style>\n",
       "<table border=\"1\" class=\"dataframe\">\n",
       "  <thead>\n",
       "    <tr style=\"text-align: right;\">\n",
       "      <th></th>\n",
       "      <th>Duration PR Creation to Authorization</th>\n",
       "      <th>Duration PR Authorization to PO Creation</th>\n",
       "      <th>Duration PO Creation to Goods Receipt</th>\n",
       "    </tr>\n",
       "  </thead>\n",
       "  <tbody>\n",
       "    <tr>\n",
       "      <th>count</th>\n",
       "      <td>370.00</td>\n",
       "      <td>370.00</td>\n",
       "      <td>400.00</td>\n",
       "    </tr>\n",
       "    <tr>\n",
       "      <th>mean</th>\n",
       "      <td>1.68</td>\n",
       "      <td>1.15</td>\n",
       "      <td>11.75</td>\n",
       "    </tr>\n",
       "    <tr>\n",
       "      <th>std</th>\n",
       "      <td>1.49</td>\n",
       "      <td>1.05</td>\n",
       "      <td>8.67</td>\n",
       "    </tr>\n",
       "    <tr>\n",
       "      <th>min</th>\n",
       "      <td>0.00</td>\n",
       "      <td>-4.00</td>\n",
       "      <td>0.00</td>\n",
       "    </tr>\n",
       "    <tr>\n",
       "      <th>25%</th>\n",
       "      <td>0.25</td>\n",
       "      <td>0.00</td>\n",
       "      <td>6.00</td>\n",
       "    </tr>\n",
       "    <tr>\n",
       "      <th>50%</th>\n",
       "      <td>1.00</td>\n",
       "      <td>1.00</td>\n",
       "      <td>10.00</td>\n",
       "    </tr>\n",
       "    <tr>\n",
       "      <th>75%</th>\n",
       "      <td>3.00</td>\n",
       "      <td>2.00</td>\n",
       "      <td>15.00</td>\n",
       "    </tr>\n",
       "    <tr>\n",
       "      <th>max</th>\n",
       "      <td>5.00</td>\n",
       "      <td>3.00</td>\n",
       "      <td>52.00</td>\n",
       "    </tr>\n",
       "  </tbody>\n",
       "</table>\n",
       "</div>"
      ],
      "text/plain": [
       "       Duration PR Creation to Authorization  \\\n",
       "count                                 370.00   \n",
       "mean                                    1.68   \n",
       "std                                     1.49   \n",
       "min                                     0.00   \n",
       "25%                                     0.25   \n",
       "50%                                     1.00   \n",
       "75%                                     3.00   \n",
       "max                                     5.00   \n",
       "\n",
       "       Duration PR Authorization to PO Creation  \\\n",
       "count                                    370.00   \n",
       "mean                                       1.15   \n",
       "std                                        1.05   \n",
       "min                                       -4.00   \n",
       "25%                                        0.00   \n",
       "50%                                        1.00   \n",
       "75%                                        2.00   \n",
       "max                                        3.00   \n",
       "\n",
       "       Duration PO Creation to Goods Receipt  \n",
       "count                                 400.00  \n",
       "mean                                   11.75  \n",
       "std                                     8.67  \n",
       "min                                     0.00  \n",
       "25%                                     6.00  \n",
       "50%                                    10.00  \n",
       "75%                                    15.00  \n",
       "max                                    52.00  "
      ]
     },
     "execution_count": 22,
     "metadata": {},
     "output_type": "execute_result"
    }
   ],
   "source": [
    "# Calculate durations between key procurement steps in days\n",
    "df['Duration PR Creation to Authorization'] = (df['Authorize PR'] - df['Create PR']).dt.days\n",
    "df['Duration PR Authorization to PO Creation'] = (df['Create Purchase Order'] - df['Authorize PR']).dt.days\n",
    "df['Duration PO Creation to Goods Receipt'] = (df['Receive Goods'] - df['Create Purchase Order']).dt.days\n",
    "\n",
    "# Summary statistics for these durations\n",
    "duration_stats = df[['Duration PR Creation to Authorization', \n",
    "                       'Duration PR Authorization to PO Creation', \n",
    "                       'Duration PO Creation to Goods Receipt']].describe()\n",
    "\n",
    "# Visualize these durations\n",
    "plt.figure(figsize=(18, 6))\n",
    "\n",
    "plt.subplot(1, 3, 1)\n",
    "sns.boxplot(y=df['Duration PR Creation to Authorization'].dropna(), color='skyblue')\n",
    "plt.title('Duration from PR Creation to Authorization')\n",
    "plt.ylabel('Days')\n",
    "\n",
    "plt.subplot(1, 3, 2)\n",
    "sns.boxplot(y=df['Duration PR Authorization to PO Creation'].dropna(), color='lightgreen')\n",
    "plt.title('Duration from PR Authorization to PO Creation')\n",
    "plt.ylabel('Days')\n",
    "\n",
    "plt.subplot(1, 3, 3)\n",
    "sns.boxplot(y=df['Duration PO Creation to Goods Receipt'].dropna(), color='salmon')\n",
    "plt.title('Duration from PO Creation to Goods Receipt')\n",
    "plt.ylabel('Days')\n",
    "\n",
    "plt.tight_layout()\n",
    "plt.show()\n",
    "\n",
    "duration_stats\n"
   ]
  },
  {
   "cell_type": "markdown",
   "metadata": {},
   "source": [
    "The boxplots display the spread and central tendency of the durations. The spread in the \"PO Creation to Goods Receipt\" stage is notably wider, reflecting more substantial variation in how long it takes to receive goods after a purchase order is issued."
   ]
  },
  {
   "cell_type": "markdown",
   "metadata": {},
   "source": [
    "Recommendations:\n",
    "\n",
    "1.Data Integrity Check: Review entries where the \"PO Creation\" date precedes the \"PR Authorization\" to correct potential data entry errors.\n",
    "\n",
    "2.Process Efficiency Improvement: The \"PO Creation to Goods Receipt\" stage might benefit from further investigation to identify why some cases take significantly longer and whether this can be optimized."
   ]
  },
  {
   "cell_type": "markdown",
   "metadata": {},
   "source": [
    "# Define the Process Steps"
   ]
  },
  {
   "cell_type": "code",
   "execution_count": 23,
   "metadata": {},
   "outputs": [],
   "source": [
    "process_steps = ['Create PR', 'Authorize PR', 'Reject PR', 'Create Purchase Order', \n",
    "                 'Auth Send PO', 'Reject PO', 'Receive Goods']\n"
   ]
  },
  {
   "cell_type": "markdown",
   "metadata": {},
   "source": [
    "# Create Process Sequences"
   ]
  },
  {
   "cell_type": "code",
   "execution_count": 24,
   "metadata": {},
   "outputs": [],
   "source": [
    "def get_process_sequence(row):\n",
    "    sequence = []\n",
    "    for step in process_steps:\n",
    "        if pd.notnull(row[step]):\n",
    "            sequence.append(step)\n",
    "    return ' -> '.join(sequence)\n",
    "\n",
    "# Apply the function to each row to create the sequence\n",
    "\n",
    "df['Process Sequence'] = df.apply(get_process_sequence, axis=1)\n"
   ]
  },
  {
   "cell_type": "markdown",
   "metadata": {},
   "source": [
    "# Analyze Variants"
   ]
  },
  {
   "cell_type": "code",
   "execution_count": 25,
   "metadata": {},
   "outputs": [
    {
     "name": "stdout",
     "output_type": "stream",
     "text": [
      "                                     Process Variant  Frequency\n",
      "0  Create PR -> Authorize PR -> Create Purchase O...        366\n",
      "1  Create Purchase Order -> Auth Send PO -> Recei...         34\n",
      "2                 Create Purchase Order -> Reject PO         20\n",
      "3                                      Receive Goods          6\n",
      "4                             Create PR -> Reject PR          5\n",
      "5  Create PR -> Authorize PR -> Create Purchase O...          4\n",
      "6                              Create Purchase Order          3\n"
     ]
    }
   ],
   "source": [
    "sequence_counts = df['Process Sequence'].value_counts().reset_index()\n",
    "sequence_counts.columns = ['Process Variant', 'Frequency']\n",
    "print(sequence_counts)\n"
   ]
  },
  {
   "cell_type": "markdown",
   "metadata": {},
   "source": [
    "# Visualize"
   ]
  },
  {
   "cell_type": "code",
   "execution_count": 26,
   "metadata": {},
   "outputs": [
    {
     "data": {
      "image/png": "[encoded data removed]",
      "text/plain": [
       "<Figure size 1008x504 with 1 Axes>"
      ]
     },
     "metadata": {
      "needs_background": "light"
     },
     "output_type": "display_data"
    }
   ],
   "source": [
    "import matplotlib.pyplot as plt\n",
    "\n",
    "# Bar plot of process variants\n",
    "sequence_counts.set_index('Process Variant').plot(kind='bar', figsize=(14, 7))\n",
    "plt.title('Frequency of Process Variants')\n",
    "plt.xlabel('Process Variant')\n",
    "plt.ylabel('Frequency')\n",
    "plt.xticks(rotation=45)\n",
    "plt.show()\n"
   ]
  },
  {
   "cell_type": "markdown",
   "metadata": {},
   "source": [
    "# Checking the monetary value which used to be ordered without requisition"
   ]
  },
  {
   "cell_type": "code",
   "execution_count": 27,
   "metadata": {},
   "outputs": [],
   "source": [
    "# Assuming you've already loaded your data into a DataFrame named `data`\n",
    "median_purchase_value = df['Purchase Value (eur)'].median()"
   ]
  },
  {
   "cell_type": "code",
   "execution_count": 28,
   "metadata": {},
   "outputs": [],
   "source": [
    "# Calculate the total value for orders without a requisition\n",
    "total_value_without_requisition = median_purchase_value * 52"
   ]
  },
  {
   "cell_type": "code",
   "execution_count": 29,
   "metadata": {},
   "outputs": [
    {
     "name": "stdout",
     "output_type": "stream",
     "text": [
      "Median Purchase Value: EUR 583.44\n",
      "Total Value without Requisition (EUR 52 cases): EUR 30338.880000000005\n"
     ]
    }
   ],
   "source": [
    "# Print the results\n",
    "print(\"Median Purchase Value: EUR\", median_purchase_value)\n",
    "print(\"Total Value without Requisition (EUR 52 cases): EUR\", total_value_without_requisition)"
   ]
  },
  {
   "cell_type": "markdown",
   "metadata": {},
   "source": [
    "This means around 30338 EUR of goods have been ordered without following the requisition process."
   ]
  },
  {
   "cell_type": "markdown",
   "metadata": {},
   "source": [
    "# Potential Conflicts among Actors"
   ]
  },
  {
   "cell_type": "code",
   "execution_count": 30,
   "metadata": {},
   "outputs": [
    {
     "name": "stdout",
     "output_type": "stream",
     "text": [
      "         Actor  Steps Involved\n",
      "2        EdjeK               3\n",
      "3       Eduard               2\n",
      "5       FritsS               2\n",
      "6        JohnK               2\n",
      "15      RobvdL               2\n",
      "1        Bouke               2\n",
      "0        ArieV               1\n",
      "12  MauritsvdR               1\n",
      "17    ThijsvdB               1\n",
      "16      SonjaL               1\n"
     ]
    }
   ],
   "source": [
    "# Define actor columns and corresponding steps\n",
    "actor_columns = {\n",
    "    'Actor_Create PR': 'Create PR',\n",
    "    'Actor_Authorize PR': 'Authorize PR',\n",
    "    'Actor_Reject PR': 'Reject PR',\n",
    "    'Actor_Create Purchase Order': 'Create Purchase Order',\n",
    "    'Actor_Auth Send PO': 'Auth Send PO',\n",
    "    'Actor_Reject PO': 'Reject PO',\n",
    "    'Actor_Receive Goods': 'Receive Goods'\n",
    "}\n",
    "\n",
    "# Aggregate information about actor involvement\n",
    "actor_steps = pd.DataFrame()\n",
    "for column, step in actor_columns.items():\n",
    "    temp_df = df[[column]].dropna()\n",
    "    temp_df['Step'] = step\n",
    "    temp_df.rename(columns={column: 'Actor'}, inplace=True)\n",
    "    actor_steps = pd.concat([actor_steps, temp_df], ignore_index=True)\n",
    "\n",
    "# Count how many different steps each actor is involved in\n",
    "actor_involvement = actor_steps.groupby('Actor').nunique()['Step'].reset_index()\n",
    "actor_involvement.columns = ['Actor', 'Steps Involved']\n",
    "actor_involvement.sort_values(by='Steps Involved', ascending=False, inplace=True)\n",
    "\n",
    "print(actor_involvement.head(10))  # Display the top 10 actors involved in multiple steps\n"
   ]
  },
  {
   "cell_type": "code",
   "execution_count": 31,
   "metadata": {},
   "outputs": [],
   "source": [
    "# Save the DataFrame to an Excel file\n",
    "\n",
    "df.to_excel('formatted_event_log.xlsx', index=False, engine='openpyxl')\n"
   ]
  }
 ],
 "metadata": {
  "kernelspec": {
   "display_name": "Python 3",
   "language": "python",
   "name": "python3"
  },
  "language_info": {
   "codemirror_mode": {
    "name": "ipython",
    "version": 3
   },
   "file_extension": ".py",
   "mimetype": "text/x-python",
   "name": "python",
   "nbconvert_exporter": "python",
   "pygments_lexer": "ipython3",
   "version": "3.8.5"
  }
 },
 "nbformat": 4,
 "nbformat_minor": 4
}
